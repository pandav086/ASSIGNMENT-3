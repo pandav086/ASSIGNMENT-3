{
 "cells": [
  {
   "cell_type": "code",
   "execution_count": null,
   "id": "b5a87a5d",
   "metadata": {},
   "outputs": [],
   "source": [
    "1. Why are functions advantageous to have in your programs?"
   ]
  },
  {
   "cell_type": "code",
   "execution_count": null,
   "id": "0ec9e238",
   "metadata": {},
   "outputs": [],
   "source": [
    "ANSWER:- Functions reduce the need for duplicate code. This makes programs shorter, easier to read, and easier to update. \n",
    "    We can use function at multiple place without writing whole function."
   ]
  },
  {
   "cell_type": "code",
   "execution_count": null,
   "id": "f333e9f3",
   "metadata": {},
   "outputs": [],
   "source": []
  },
  {
   "cell_type": "code",
   "execution_count": null,
   "id": "7e767e6f",
   "metadata": {},
   "outputs": [],
   "source": [
    "2. When does the code in a function run:when it's specified or when it's called?"
   ]
  },
  {
   "cell_type": "code",
   "execution_count": null,
   "id": "8b7a7a7f",
   "metadata": {},
   "outputs": [],
   "source": [
    "ANSWER:-  Code in the function runs when the function is called"
   ]
  },
  {
   "cell_type": "code",
   "execution_count": null,
   "id": "c646b60b",
   "metadata": {},
   "outputs": [],
   "source": []
  },
  {
   "cell_type": "code",
   "execution_count": null,
   "id": "0a97bbde",
   "metadata": {},
   "outputs": [],
   "source": [
    "Q3. What statement creates a function?"
   ]
  },
  {
   "cell_type": "code",
   "execution_count": null,
   "id": "051e34fc",
   "metadata": {},
   "outputs": [],
   "source": [
    "ANSWER:-  . The def statement defines (i.e. creates) a function.\n",
    "       "
   ]
  },
  {
   "cell_type": "code",
   "execution_count": 1,
   "id": "ec5f9750",
   "metadata": {},
   "outputs": [],
   "source": [
    "def sum(a,b):\n",
    "    return a+b"
   ]
  },
  {
   "cell_type": "code",
   "execution_count": 2,
   "id": "f3db17ec",
   "metadata": {},
   "outputs": [
    {
     "data": {
      "text/plain": [
       "7"
      ]
     },
     "execution_count": 2,
     "metadata": {},
     "output_type": "execute_result"
    }
   ],
   "source": [
    "sum(3,4)"
   ]
  },
  {
   "cell_type": "code",
   "execution_count": null,
   "id": "f170b784",
   "metadata": {},
   "outputs": [],
   "source": []
  },
  {
   "cell_type": "code",
   "execution_count": null,
   "id": "65dfc712",
   "metadata": {},
   "outputs": [],
   "source": []
  },
  {
   "cell_type": "code",
   "execution_count": null,
   "id": "c9648d67",
   "metadata": {},
   "outputs": [],
   "source": [
    "Q4. What is the difference between a function and a function call?"
   ]
  },
  {
   "cell_type": "code",
   "execution_count": null,
   "id": "899daa50",
   "metadata": {},
   "outputs": [],
   "source": [
    "ANSWER:-   "
   ]
  },
  {
   "cell_type": "code",
   "execution_count": 4,
   "id": "5ccafef3",
   "metadata": {},
   "outputs": [
    {
     "data": {
      "text/plain": [
       "20"
      ]
     },
     "execution_count": 4,
     "metadata": {},
     "output_type": "execute_result"
    }
   ],
   "source": [
    "\n",
    "#define a function\n",
    "def mul(a,b):\n",
    "    return a*b\n",
    "\n",
    "#calling function\n",
    "\n",
    "mul(4,5)"
   ]
  },
  {
   "cell_type": "code",
   "execution_count": null,
   "id": "b506e636",
   "metadata": {},
   "outputs": [],
   "source": []
  },
  {
   "cell_type": "code",
   "execution_count": null,
   "id": "661031bc",
   "metadata": {},
   "outputs": [],
   "source": []
  },
  {
   "cell_type": "code",
   "execution_count": null,
   "id": "0e2913d4",
   "metadata": {},
   "outputs": [],
   "source": [
    "Q5. How many global scopes are there in a Python program? How many local scopes?"
   ]
  },
  {
   "cell_type": "code",
   "execution_count": null,
   "id": "0154f6ee",
   "metadata": {},
   "outputs": [],
   "source": [
    "ANSWER:- There is  only one global Python scope per program execution. \n",
    "         This scope remains in existence until the program terminates , \n",
    "         and a local scope is created whenever a function is called.\n",
    "    \n",
    "    "
   ]
  },
  {
   "cell_type": "code",
   "execution_count": null,
   "id": "94f2666e",
   "metadata": {},
   "outputs": [],
   "source": []
  },
  {
   "cell_type": "code",
   "execution_count": null,
   "id": "67ac7592",
   "metadata": {},
   "outputs": [],
   "source": [
    "Q6. What happens to variables in a local scope when the function call returns?"
   ]
  },
  {
   "cell_type": "code",
   "execution_count": null,
   "id": "2dc17a40",
   "metadata": {},
   "outputs": [],
   "source": [
    "ANS:-  When a function returns, the local scope is destroyed."
   ]
  },
  {
   "cell_type": "code",
   "execution_count": 1,
   "id": "748232fc",
   "metadata": {},
   "outputs": [],
   "source": [
    "# Global variable\n",
    "total = 100\n",
    "def test():\n",
    "    # Local variable\n",
    "    marks = 19\n",
    "    print('Marks = ', marks)\n",
    "    print('Total = ', total)"
   ]
  },
  {
   "cell_type": "code",
   "execution_count": 2,
   "id": "b82dda6e",
   "metadata": {},
   "outputs": [
    {
     "name": "stdout",
     "output_type": "stream",
     "text": [
      "Marks =  19\n",
      "Total =  100\n"
     ]
    }
   ],
   "source": [
    "test()"
   ]
  },
  {
   "cell_type": "code",
   "execution_count": null,
   "id": "d73d500d",
   "metadata": {},
   "outputs": [],
   "source": []
  },
  {
   "cell_type": "code",
   "execution_count": null,
   "id": "36a1b3ae",
   "metadata": {},
   "outputs": [],
   "source": []
  },
  {
   "cell_type": "code",
   "execution_count": null,
   "id": "6ff7943e",
   "metadata": {},
   "outputs": [],
   "source": [
    "Q7. What is the concept of a return value? Is it possible to have a return value in an expression?"
   ]
  },
  {
   "cell_type": "code",
   "execution_count": null,
   "id": "6fe24ace",
   "metadata": {},
   "outputs": [],
   "source": [
    "ANS:-    A return value is the value that a function call evaluates to. \n",
    "        Like any value, a return value can be used as part of an expression."
   ]
  },
  {
   "cell_type": "code",
   "execution_count": null,
   "id": "aad40044",
   "metadata": {},
   "outputs": [],
   "source": []
  },
  {
   "cell_type": "code",
   "execution_count": null,
   "id": "681b2268",
   "metadata": {},
   "outputs": [],
   "source": []
  },
  {
   "cell_type": "code",
   "execution_count": null,
   "id": "56ebfded",
   "metadata": {},
   "outputs": [],
   "source": [
    "Q8. If a function does not have a return statement, what is the return value of a call to that function?"
   ]
  },
  {
   "cell_type": "code",
   "execution_count": null,
   "id": "ed4aa599",
   "metadata": {},
   "outputs": [],
   "source": [
    "ANS:-  If the funtion does not have a return statement it will not return anything."
   ]
  },
  {
   "cell_type": "code",
   "execution_count": null,
   "id": "0904e00b",
   "metadata": {},
   "outputs": [],
   "source": []
  },
  {
   "cell_type": "code",
   "execution_count": null,
   "id": "b5359c4d",
   "metadata": {},
   "outputs": [],
   "source": []
  },
  {
   "cell_type": "code",
   "execution_count": null,
   "id": "c80a21c1",
   "metadata": {},
   "outputs": [],
   "source": [
    "Q9. How do you make a function variable refer to the global variable?"
   ]
  },
  {
   "cell_type": "code",
   "execution_count": null,
   "id": "01939a55",
   "metadata": {},
   "outputs": [],
   "source": [
    "ANS:-  To make function variable as a global variable you can use the global keyword to declare which variables are global."
   ]
  },
  {
   "cell_type": "code",
   "execution_count": 9,
   "id": "984d5a5d",
   "metadata": {},
   "outputs": [
    {
     "name": "stdout",
     "output_type": "stream",
     "text": [
      "Total =  100\n",
      "Total =  100\n"
     ]
    }
   ],
   "source": [
    "total = 100 \n",
    "def func1(): \n",
    "   total = 15 \n",
    "print('Total = ', total) \n",
    "func1() \n",
    "print('Total = ', total)"
   ]
  },
  {
   "cell_type": "code",
   "execution_count": null,
   "id": "a9885583",
   "metadata": {},
   "outputs": [],
   "source": []
  },
  {
   "cell_type": "code",
   "execution_count": 6,
   "id": "a010130c",
   "metadata": {},
   "outputs": [
    {
     "name": "stdout",
     "output_type": "stream",
     "text": [
      "Total =  100\n",
      "Total =  15\n"
     ]
    }
   ],
   "source": [
    "total = 100\n",
    "def func():\n",
    "    # refer to global variable 'total' inside function\n",
    "    global total\n",
    "    if total > 10:\n",
    "        total = 15\n",
    "print('Total = ', total)\n",
    "func()\n",
    "print('Total = ', total)"
   ]
  },
  {
   "cell_type": "code",
   "execution_count": null,
   "id": "bcba3127",
   "metadata": {},
   "outputs": [],
   "source": []
  },
  {
   "cell_type": "code",
   "execution_count": null,
   "id": "6f81ac61",
   "metadata": {},
   "outputs": [],
   "source": []
  },
  {
   "cell_type": "code",
   "execution_count": null,
   "id": "0ce40faa",
   "metadata": {},
   "outputs": [],
   "source": [
    "Q10. What is the data type of None?"
   ]
  },
  {
   "cell_type": "code",
   "execution_count": null,
   "id": "57edf618",
   "metadata": {},
   "outputs": [],
   "source": [
    "Ans . The data type of None is NoneType."
   ]
  },
  {
   "cell_type": "code",
   "execution_count": null,
   "id": "1b627c79",
   "metadata": {},
   "outputs": [],
   "source": []
  },
  {
   "cell_type": "code",
   "execution_count": null,
   "id": "d8fac6b4",
   "metadata": {},
   "outputs": [],
   "source": [
    "Q11. What does the sentence import areallyourpetsnamederic do?"
   ]
  },
  {
   "cell_type": "code",
   "execution_count": null,
   "id": "eea97ca2",
   "metadata": {},
   "outputs": [],
   "source": [
    "Ans .That import statement imports a module named areallyourpetsnamederic."
   ]
  },
  {
   "cell_type": "code",
   "execution_count": null,
   "id": "69421964",
   "metadata": {},
   "outputs": [],
   "source": []
  },
  {
   "cell_type": "code",
   "execution_count": null,
   "id": "7335431a",
   "metadata": {},
   "outputs": [],
   "source": [
    "Q12. If you had a bacon() feature in a spam module, what would you call it after importing spam?\n",
    "\n",
    "Ans   import spam\n",
    "      spam.bacon()"
   ]
  },
  {
   "cell_type": "code",
   "execution_count": null,
   "id": "0b255899",
   "metadata": {},
   "outputs": [],
   "source": []
  },
  {
   "cell_type": "code",
   "execution_count": null,
   "id": "b9d0cf82",
   "metadata": {},
   "outputs": [],
   "source": [
    "Q13. What can you do to save a programme from crashing if it encounters an error?\n",
    "\n",
    "Ans. We can use try except clause to save a program from crashing."
   ]
  },
  {
   "cell_type": "code",
   "execution_count": null,
   "id": "3e50ec1f",
   "metadata": {},
   "outputs": [],
   "source": []
  },
  {
   "cell_type": "code",
   "execution_count": null,
   "id": "b0c2fcaf",
   "metadata": {},
   "outputs": [],
   "source": [
    "Q14. What is the purpose of the try clause? What is the purpose of the except clause?\n",
    "\n",
    "Ans. Try and Except clause is used to handle the errors within our code .\n",
    "     The try block is used to check some code for errors\n",
    "    i.e the code inside the try block will execute when there is no error in the program. \n",
    "    Whereas the code inside the except block will execute whenever the program encounters some error in the try block."
   ]
  },
  {
   "cell_type": "code",
   "execution_count": null,
   "id": "9cf57cc7",
   "metadata": {},
   "outputs": [],
   "source": []
  },
  {
   "cell_type": "code",
   "execution_count": null,
   "id": "9223224c",
   "metadata": {},
   "outputs": [],
   "source": []
  },
  {
   "cell_type": "code",
   "execution_count": null,
   "id": "6076e305",
   "metadata": {},
   "outputs": [],
   "source": []
  }
 ],
 "metadata": {
  "kernelspec": {
   "display_name": "Python 3 (ipykernel)",
   "language": "python",
   "name": "python3"
  },
  "language_info": {
   "codemirror_mode": {
    "name": "ipython",
    "version": 3
   },
   "file_extension": ".py",
   "mimetype": "text/x-python",
   "name": "python",
   "nbconvert_exporter": "python",
   "pygments_lexer": "ipython3",
   "version": "3.9.7"
  }
 },
 "nbformat": 4,
 "nbformat_minor": 5
}
